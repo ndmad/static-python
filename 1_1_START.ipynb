{
 "cells": [
  {
   "cell_type": "markdown",
   "id": "1dd517e0",
   "metadata": {},
   "source": [
    "<h1 style=\"font-size:45px; font-weight:bold; color:blue\"> FONDAMENTAUX DU LANGAGE PYTHON</h1>"
   ]
  },
  {
   "cell_type": "markdown",
   "id": "194ef2b8",
   "metadata": {},
   "source": [
    "Par Mamadou NDIAYE"
   ]
  },
  {
   "cell_type": "markdown",
   "id": "3eca186c",
   "metadata": {},
   "source": [
    "# Listes"
   ]
  },
  {
   "cell_type": "markdown",
   "id": "7cb774fd",
   "metadata": {},
   "source": [
    "Les listes peuvent contenir plusieurs types de données (chaînes de caractères, entiers naturels, nombres décimaux, dictionnaires, dataframes, listes, etc.). Les listes sont définies par : [ ]."
   ]
  },
  {
   "cell_type": "code",
   "execution_count": 8,
   "id": "5b28365b",
   "metadata": {},
   "outputs": [
    {
     "data": {
      "text/plain": [
       "[19, 'SDakar', 7.5, 'neige', ['riz', 'tomate', 'banane']]"
      ]
     },
     "execution_count": 8,
     "metadata": {},
     "output_type": "execute_result"
    }
   ],
   "source": [
    "# Exemple de liste avec []\n",
    "liste = [19, 'SDakar', 7.5, 'neige', ['riz', 'tomate', 'banane']]\n",
    "liste"
   ]
  },
  {
   "cell_type": "code",
   "execution_count": 9,
   "id": "b96697c7",
   "metadata": {
    "scrolled": true
   },
   "outputs": [
    {
     "name": "stdout",
     "output_type": "stream",
     "text": [
      "19\n",
      "['riz', 'tomate', 'banane']\n",
      "True\n"
     ]
    }
   ],
   "source": [
    "# Premier élément d'une liste\n",
    "print(liste[0])\n",
    "\n",
    "# Dernier élément d'une liste\n",
    "print(liste[-1])\n",
    "print(liste[-1] == liste[4])"
   ]
  },
  {
   "cell_type": "code",
   "execution_count": 10,
   "id": "a1e67a8a",
   "metadata": {},
   "outputs": [
    {
     "data": {
      "text/plain": [
       "[19, 'SDakar', 7.5, 'neige', ['riz', 'tomate', 'banane'], 5]"
      ]
     },
     "execution_count": 10,
     "metadata": {},
     "output_type": "execute_result"
    }
   ],
   "source": [
    "# Méthode append permet d'ajouter un élément à la fin d'une liste\n",
    "liste.append(5)\n",
    "liste"
   ]
  },
  {
   "cell_type": "code",
   "execution_count": 11,
   "id": "160ea851",
   "metadata": {},
   "outputs": [
    {
     "data": {
      "text/plain": [
       "[0, 1, 4, 9, 16, 25, 36, 49, 64, 81]"
      ]
     },
     "execution_count": 11,
     "metadata": {},
     "output_type": "execute_result"
    }
   ],
   "source": [
    "my_list = []\n",
    "for i in range(10):\n",
    "    squared = i**2\n",
    "    my_list.append(squared)\n",
    "my_list    \n",
    "    "
   ]
  },
  {
   "cell_type": "markdown",
   "id": "32f65c69",
   "metadata": {},
   "source": [
    "Le code ci-dessus peut être écrit en une seule ligne avec une liste de compréhension"
   ]
  },
  {
   "cell_type": "code",
   "execution_count": 12,
   "id": "59c45969",
   "metadata": {},
   "outputs": [
    {
     "data": {
      "text/plain": [
       "[0, 1, 4, 9, 16, 25, 36, 49, 64, 81]"
      ]
     },
     "execution_count": 12,
     "metadata": {},
     "output_type": "execute_result"
    }
   ],
   "source": [
    "# Création d'une liste de compréhension\n",
    "my_list2 = [i**2 for i in range(10)]\n",
    "my_list2"
   ]
  },
  {
   "cell_type": "code",
   "execution_count": 13,
   "id": "eae59916",
   "metadata": {},
   "outputs": [
    {
     "data": {
      "text/plain": [
       "True"
      ]
     },
     "execution_count": 13,
     "metadata": {},
     "output_type": "execute_result"
    }
   ],
   "source": [
    "my_list == my_list2"
   ]
  },
  {
   "cell_type": "markdown",
   "id": "fd4f63a8",
   "metadata": {},
   "source": [
    "La méthode insert() est utilisée pour insérer des éléments dans une liste à une position donnée."
   ]
  },
  {
   "cell_type": "code",
   "execution_count": 14,
   "id": "fef9a9b1",
   "metadata": {},
   "outputs": [
    {
     "data": {
      "text/plain": [
       "[19, 'New York', 'SDakar', 7.5, 'neige', ['riz', 'tomate', 'banane'], 5]"
      ]
     },
     "execution_count": 14,
     "metadata": {},
     "output_type": "execute_result"
    }
   ],
   "source": [
    "# Insertion de 'New York' à la deuxième position dans liste\n",
    "liste.insert(1, 'New York')\n",
    "liste"
   ]
  },
  {
   "cell_type": "markdown",
   "id": "c8f0a206",
   "metadata": {},
   "source": [
    "# <h1 style=\"font-size:35px; font-weight:bold; color:red\">Tableaux numpy (numpy arrays)</h1>\n"
   ]
  },
  {
   "cell_type": "markdown",
   "id": "7222da20",
   "metadata": {},
   "source": [
    "La différence entre une liste et un tableau numpy est que le dernier contient des données de même type. Un tableau numpy est défini avec la méthode <strong>array()</strong> de la librairie <i>numpy</i>"
   ]
  },
  {
   "cell_type": "code",
   "execution_count": 15,
   "id": "2dfcc330",
   "metadata": {},
   "outputs": [],
   "source": [
    "# Importantion de la librairie numpy\n",
    "\n",
    "import numpy as np"
   ]
  },
  {
   "cell_type": "code",
   "execution_count": 16,
   "id": "4ac0c007",
   "metadata": {},
   "outputs": [
    {
     "name": "stdout",
     "output_type": "stream",
     "text": [
      "[0 1 2 3 4 5 6 7 8 9]\n",
      "<class 'numpy.ndarray'>\n"
     ]
    }
   ],
   "source": [
    "# Création d'un tableau numpy\n",
    "\n",
    "tab_nump = np.array([0,1,2,3,4,5,6,7,8,9])\n",
    "print(tab_nump)\n",
    "print(type(tab_nump))"
   ]
  },
  {
   "cell_type": "markdown",
   "id": "c702ebb0",
   "metadata": {},
   "source": [
    "Les listes et les tableaux numpy diffèrent par leur vitesse et leur efficacité de mémoire. Une raison intuitive à cela est que les listes python doivent stocker la valeur de chaque élément ainsi que le type de chaque élément (car les types peuvent différer). Alors que les tableaux numpy n'ont besoin de stocker le type qu'une seule fois, car il est le même pour tous les éléments du tableau.\n",
    "\n",
    "Vous pouvez effectuer des calculs avec des tableaux numpy."
   ]
  },
  {
   "cell_type": "code",
   "execution_count": 17,
   "id": "b53e5733",
   "metadata": {},
   "outputs": [
    {
     "name": "stdout",
     "output_type": "stream",
     "text": [
      "<class 'numpy.ndarray'>\n"
     ]
    }
   ],
   "source": [
    "# Division par 2 de chaque élément de tab_nump\n",
    "\n",
    "print(type(tab_nump/2))"
   ]
  },
  {
   "cell_type": "code",
   "execution_count": 18,
   "id": "b04b7bc2",
   "metadata": {},
   "outputs": [],
   "source": [
    "# Création d'un liste des 10 premiers entiers naturels\n",
    "\n",
    "first_number = [0,1,2,3,4,5,6,7,8,9]\n",
    "\n",
    "#first_number/2"
   ]
  },
  {
   "cell_type": "code",
   "execution_count": 19,
   "id": "4f0b46b2",
   "metadata": {},
   "outputs": [
    {
     "data": {
      "text/plain": [
       "array([0. , 0.5, 1. , 1.5, 2. , 2.5, 3. , 3.5, 4. , 4.5])"
      ]
     },
     "execution_count": 19,
     "metadata": {},
     "output_type": "execute_result"
    }
   ],
   "source": [
    "# Division par 2 de chaque élément de first_number\n",
    "\n",
    "first_number = np.array(first_number)\n",
    "\n",
    "first_number/2"
   ]
  },
  {
   "cell_type": "code",
   "execution_count": 20,
   "id": "b241a067",
   "metadata": {},
   "outputs": [
    {
     "data": {
      "text/plain": [
       "array([0. , 0.5, 1. , 1.5, 2. , 2.5, 3. , 3.5, 4. , 4.5])"
      ]
     },
     "execution_count": 20,
     "metadata": {},
     "output_type": "execute_result"
    }
   ],
   "source": [
    "np.array([i for i in range(10)])/2"
   ]
  },
  {
   "cell_type": "markdown",
   "id": "2c029efb",
   "metadata": {},
   "source": [
    "Pour des études scientifiques, le stockage dans des tableaux numpy est préféré car il permet d'effectuer des calculs de manière rapide et efficace."
   ]
  },
  {
   "cell_type": "code",
   "execution_count": 21,
   "id": "11365950",
   "metadata": {},
   "outputs": [
    {
     "data": {
      "text/plain": [
       "array([ 0,  1,  2,  3,  4,  5,  6,  7,  8,  9, 10])"
      ]
     },
     "execution_count": 21,
     "metadata": {},
     "output_type": "execute_result"
    }
   ],
   "source": [
    "# Méthode append()\n",
    "\n",
    "tab_nump = np.append(tab_nump, 10)\n",
    "\n",
    "tab_nump"
   ]
  },
  {
   "cell_type": "markdown",
   "id": "a2b0b765",
   "metadata": {},
   "source": [
    " L'attribut <strong>shape</strong> donne la dimension (nombre de lignes et nombre de colonnes d'un tableau numpy)."
   ]
  },
  {
   "cell_type": "code",
   "execution_count": 22,
   "id": "e657aa9e",
   "metadata": {},
   "outputs": [
    {
     "data": {
      "text/plain": [
       "(11,)"
      ]
     },
     "execution_count": 22,
     "metadata": {},
     "output_type": "execute_result"
    }
   ],
   "source": [
    "# Attribut shape d'un tableau numpy\n",
    "\n",
    "tab_nump.shape"
   ]
  },
  {
   "cell_type": "code",
   "execution_count": 23,
   "id": "64fd4b7c",
   "metadata": {},
   "outputs": [
    {
     "data": {
      "text/plain": [
       "array([[1, 2],\n",
       "       [3, 4]])"
      ]
     },
     "execution_count": 23,
     "metadata": {},
     "output_type": "execute_result"
    }
   ],
   "source": [
    "# Création d'un tableau numpy 2x2\n",
    "\n",
    "x = np.array([[1,2], [3,4]])\n",
    "x"
   ]
  },
  {
   "cell_type": "code",
   "execution_count": 24,
   "id": "02bf9dad",
   "metadata": {},
   "outputs": [
    {
     "data": {
      "text/plain": [
       "2"
      ]
     },
     "execution_count": 24,
     "metadata": {},
     "output_type": "execute_result"
    }
   ],
   "source": [
    "# Dimension de x\n",
    "\n",
    "x.ndim"
   ]
  },
  {
   "cell_type": "markdown",
   "id": "ac617f18",
   "metadata": {},
   "source": [
    "Vous pouvez effectuer des opérations basiques (addition, soustraction, multiplication et division) avec les tableaux numpy."
   ]
  },
  {
   "cell_type": "code",
   "execution_count": 25,
   "id": "65eeb016",
   "metadata": {},
   "outputs": [
    {
     "data": {
      "text/plain": [
       "array([[5, 6],\n",
       "       [7, 8]])"
      ]
     },
     "execution_count": 25,
     "metadata": {},
     "output_type": "execute_result"
    }
   ],
   "source": [
    "# Création d'un tableau numpy\n",
    "\n",
    "y = np.array([[5,6], [7,8]])\n",
    "y"
   ]
  },
  {
   "cell_type": "code",
   "execution_count": 26,
   "id": "dd18b203",
   "metadata": {},
   "outputs": [
    {
     "data": {
      "text/plain": [
       "array([[ 6,  8],\n",
       "       [10, 12]])"
      ]
     },
     "execution_count": 26,
     "metadata": {},
     "output_type": "execute_result"
    }
   ],
   "source": [
    "# x + y\n",
    "sum_x_y = x + y\n",
    "sum_x_y"
   ]
  },
  {
   "cell_type": "code",
   "execution_count": 27,
   "id": "ee828151",
   "metadata": {},
   "outputs": [
    {
     "data": {
      "text/plain": [
       "array([[ 6,  8],\n",
       "       [10, 12]])"
      ]
     },
     "execution_count": 27,
     "metadata": {},
     "output_type": "execute_result"
    }
   ],
   "source": [
    "# x + y avec la méthide add() de numpy\n",
    "\n",
    "sum2_x_y = np.add(x, y)\n",
    "sum2_x_y"
   ]
  },
  {
   "cell_type": "code",
   "execution_count": 28,
   "id": "ca70266d",
   "metadata": {},
   "outputs": [
    {
     "data": {
      "text/plain": [
       "array([[ True,  True],\n",
       "       [ True,  True]])"
      ]
     },
     "execution_count": 28,
     "metadata": {},
     "output_type": "execute_result"
    }
   ],
   "source": [
    "sum2_x_y == sum_x_y "
   ]
  },
  {
   "cell_type": "code",
   "execution_count": 29,
   "id": "9e85402c",
   "metadata": {},
   "outputs": [
    {
     "data": {
      "text/plain": [
       "array([[-4, -4],\n",
       "       [-4, -4]])"
      ]
     },
     "execution_count": 29,
     "metadata": {},
     "output_type": "execute_result"
    }
   ],
   "source": [
    "# x - y avec la methode subtract() de numpy\n",
    "\n",
    "diff_x_y = np.subtract(x, y)\n",
    "diff_x_y"
   ]
  },
  {
   "cell_type": "code",
   "execution_count": 30,
   "id": "2d4ec023",
   "metadata": {},
   "outputs": [
    {
     "data": {
      "text/plain": [
       "array([[ 5, 12],\n",
       "       [21, 32]])"
      ]
     },
     "execution_count": 30,
     "metadata": {},
     "output_type": "execute_result"
    }
   ],
   "source": [
    "# x * y avec la méthode de multiply() de numpy \n",
    "prod_x_y = np.multiply(x, y)\n",
    "prod_x_y"
   ]
  },
  {
   "cell_type": "code",
   "execution_count": 31,
   "id": "52e14666",
   "metadata": {},
   "outputs": [
    {
     "data": {
      "text/plain": [
       "array([[0.2       , 0.33333333],\n",
       "       [0.42857143, 0.5       ]])"
      ]
     },
     "execution_count": 31,
     "metadata": {},
     "output_type": "execute_result"
    }
   ],
   "source": [
    "# x / y avec la méthode de divide() de numpy \n",
    "\n",
    "div_x_y = np.divide(x, y)\n",
    "div_x_y"
   ]
  },
  {
   "cell_type": "code",
   "execution_count": 32,
   "id": "833a751e",
   "metadata": {},
   "outputs": [
    {
     "data": {
      "text/plain": [
       "array([[ 1,  2,  3,  4],\n",
       "       [ 5,  6,  7,  8],\n",
       "       [ 9, 10, 11, 12]])"
      ]
     },
     "execution_count": 32,
     "metadata": {},
     "output_type": "execute_result"
    }
   ],
   "source": [
    "# Création d'un tableau numpy 3x4 (3 lignes et 4 colonnes)\n",
    "\n",
    "z = np.array([[1,2,3,4], [5,6,7,8], [9, 10, 11, 12]])\n",
    "z"
   ]
  },
  {
   "cell_type": "code",
   "execution_count": 33,
   "id": "eb1cfca3",
   "metadata": {},
   "outputs": [
    {
     "data": {
      "text/plain": [
       "(3, 4)"
      ]
     },
     "execution_count": 33,
     "metadata": {},
     "output_type": "execute_result"
    }
   ],
   "source": [
    "z.shape"
   ]
  },
  {
   "cell_type": "code",
   "execution_count": 34,
   "id": "cba98636",
   "metadata": {},
   "outputs": [
    {
     "data": {
      "text/plain": [
       "array([1, 2, 3, 4])"
      ]
     },
     "execution_count": 34,
     "metadata": {},
     "output_type": "execute_result"
    }
   ],
   "source": [
    "# première ligne de z\n",
    "z[0]"
   ]
  },
  {
   "cell_type": "code",
   "execution_count": 35,
   "id": "0cc47871",
   "metadata": {},
   "outputs": [
    {
     "data": {
      "text/plain": [
       "array([1, 2, 3, 4])"
      ]
     },
     "execution_count": 35,
     "metadata": {},
     "output_type": "execute_result"
    }
   ],
   "source": [
    "# première ligne de z\n",
    "z[0, :]"
   ]
  },
  {
   "cell_type": "code",
   "execution_count": 36,
   "id": "f095b242",
   "metadata": {},
   "outputs": [
    {
     "data": {
      "text/plain": [
       "array([ 9, 10, 11, 12])"
      ]
     },
     "execution_count": 36,
     "metadata": {},
     "output_type": "execute_result"
    }
   ],
   "source": [
    "# dernière ligne de z\n",
    "z[-1]"
   ]
  },
  {
   "cell_type": "code",
   "execution_count": 37,
   "id": "5ce2e058",
   "metadata": {},
   "outputs": [
    {
     "data": {
      "text/plain": [
       "array([ 9, 10, 11, 12])"
      ]
     },
     "execution_count": 37,
     "metadata": {},
     "output_type": "execute_result"
    }
   ],
   "source": [
    "# dernière ligne de z\n",
    "z[-1, :]"
   ]
  },
  {
   "cell_type": "code",
   "execution_count": 38,
   "id": "7c070cc4",
   "metadata": {},
   "outputs": [
    {
     "data": {
      "text/plain": [
       "array([ 2,  6, 10])"
      ]
     },
     "execution_count": 38,
     "metadata": {},
     "output_type": "execute_result"
    }
   ],
   "source": [
    "# Deuxième colonnes de z\n",
    "z[:,1]"
   ]
  },
  {
   "cell_type": "code",
   "execution_count": 39,
   "id": "eee4dfe0",
   "metadata": {},
   "outputs": [
    {
     "data": {
      "text/plain": [
       "array([ 4,  8, 12])"
      ]
     },
     "execution_count": 39,
     "metadata": {},
     "output_type": "execute_result"
    }
   ],
   "source": [
    "# Dernière colonnes de z\n",
    "z[:, -1]"
   ]
  },
  {
   "cell_type": "code",
   "execution_count": 40,
   "id": "10e1ccc4",
   "metadata": {},
   "outputs": [
    {
     "data": {
      "text/plain": [
       "array([[ 1,  2,  3,  4],\n",
       "       [ 5,  6,  7,  8],\n",
       "       [ 9, 10, 11, 12]])"
      ]
     },
     "execution_count": 40,
     "metadata": {},
     "output_type": "execute_result"
    }
   ],
   "source": [
    "z"
   ]
  },
  {
   "cell_type": "code",
   "execution_count": 41,
   "id": "bb67daf4",
   "metadata": {
    "scrolled": true
   },
   "outputs": [
    {
     "data": {
      "text/plain": [
       "array([[ 6,  7],\n",
       "       [10, 11]])"
      ]
     },
     "execution_count": 41,
     "metadata": {},
     "output_type": "execute_result"
    }
   ],
   "source": [
    "# Récupération d'une matrice particulière à partir de z\n",
    "#[[ 6,  7],\n",
    "# [10, 11]]\n",
    "\n",
    "z[1:, 1:3]"
   ]
  },
  {
   "cell_type": "code",
   "execution_count": 42,
   "id": "1788a3ab",
   "metadata": {},
   "outputs": [
    {
     "data": {
      "text/plain": [
       "12"
      ]
     },
     "execution_count": 42,
     "metadata": {},
     "output_type": "execute_result"
    }
   ],
   "source": [
    "# Récupérer l'élément de z à la dernière ligne et dernière colonne\n",
    "z[-1, -1]"
   ]
  },
  {
   "cell_type": "code",
   "execution_count": 43,
   "id": "ab889b95",
   "metadata": {},
   "outputs": [
    {
     "data": {
      "text/plain": [
       "array([[   1, 1000,    3,    4],\n",
       "       [   5,    6,    7,    8],\n",
       "       [   9,   10,   11,   12]])"
      ]
     },
     "execution_count": 43,
     "metadata": {},
     "output_type": "execute_result"
    }
   ],
   "source": [
    "# Modifier l'élément de z à la dernière ligne et deuxième colonne\n",
    "\n",
    "z[0, 1] = 1000\n",
    "z"
   ]
  },
  {
   "cell_type": "markdown",
   "id": "312e5f3f",
   "metadata": {},
   "source": [
    "<h1 style=\"font-size:35px; font-weight:bold; color:red\">Dictionnaires</h1>"
   ]
  },
  {
   "cell_type": "markdown",
   "id": "af9e0b1f",
   "metadata": {},
   "source": [
    "Les dictionnaires sont des objets utilisés pour le stockage de paires clés-valeurs. Ils sont indexés par les clés. Chaque clé d'un dictionnaire doit être unique mais les valeurs n'ont pas besoin d'être uniques. Dans python, vous pouvez créer un dictionnaire avec : <strong>{ }</strong>. "
   ]
  },
  {
   "cell_type": "code",
   "execution_count": 44,
   "id": "701a3f83",
   "metadata": {},
   "outputs": [
    {
     "data": {
      "text/plain": [
       "{'AAPL': [122.02, 14093522],\n",
       " 'GOOG': [1798.1, 1821738],\n",
       " 'AMZN': [3221.65, 51435858],\n",
       " 'FB': [285.36, 20847907]}"
      ]
     },
     "execution_count": 44,
     "metadata": {},
     "output_type": "execute_result"
    }
   ],
   "source": [
    "# Création d'un dictionnaire qui stocke le prix d'ouverture et le volume moyen\n",
    "\n",
    "stock_price = {'AAPL':[122.02, 14093522,],\n",
    "              'GOOG': [1798.10, 1821738],\n",
    "              'AMZN':[3221.65, 51435858],\n",
    "              'FB': [285.36, 20847907]}\n",
    "stock_price"
   ]
  },
  {
   "cell_type": "code",
   "execution_count": 45,
   "id": "ae690868",
   "metadata": {},
   "outputs": [
    {
     "data": {
      "text/plain": [
       "[285.36, 20847907]"
      ]
     },
     "execution_count": 45,
     "metadata": {},
     "output_type": "execute_result"
    }
   ],
   "source": [
    "# Récupération des valeurs de la clé 'FB'\n",
    "\n",
    "stock_price['FB']"
   ]
  },
  {
   "cell_type": "code",
   "execution_count": 46,
   "id": "8b145c90",
   "metadata": {},
   "outputs": [
    {
     "data": {
      "text/plain": [
       "{'AAPL': [122.02, 14093522],\n",
       " 'GOOG': [1798.1, 1821738],\n",
       " 'AMZN': [3221.65, 51435858],\n",
       " 'FB': [285.36, 20847907],\n",
       " 'TSLA': [556.44, 52485698]}"
      ]
     },
     "execution_count": 46,
     "metadata": {},
     "output_type": "execute_result"
    }
   ],
   "source": [
    "# Ajout d'une nouvelle paire clé-valeur dans un dictionnaire\n",
    "\n",
    "stock_price['TSLA']= [556.44, 52485698]\n",
    "stock_price"
   ]
  },
  {
   "cell_type": "raw",
   "id": "9bf2362f",
   "metadata": {},
   "source": [
    "De la même manière, vous pouvez changer la valeur d'une clé."
   ]
  },
  {
   "cell_type": "code",
   "execution_count": 47,
   "id": "b75d7728",
   "metadata": {},
   "outputs": [
    {
     "data": {
      "text/plain": [
       "{'AAPL': [122.02, 14093522],\n",
       " 'GOOG': [1897.5, 1821738],\n",
       " 'AMZN': [3221.65, 51435858],\n",
       " 'FB': [285.36, 20847907],\n",
       " 'TSLA': [556.44, 52485698]}"
      ]
     },
     "execution_count": 47,
     "metadata": {},
     "output_type": "execute_result"
    }
   ],
   "source": [
    "# Changement de la valeur d'une clé\n",
    "\n",
    "stock_price['GOOG'] = [1897.5, 1821738]\n",
    "stock_price"
   ]
  },
  {
   "cell_type": "markdown",
   "id": "ea907a0e",
   "metadata": {},
   "source": [
    "Vous pouvez récupérer toutes les clés d'un dictionnaire en utilisant la méthode <strong>keys()</strong>"
   ]
  },
  {
   "cell_type": "code",
   "execution_count": 48,
   "id": "e12342ba",
   "metadata": {},
   "outputs": [
    {
     "data": {
      "text/plain": [
       "dict_keys(['AAPL', 'GOOG', 'AMZN', 'FB', 'TSLA'])"
      ]
     },
     "execution_count": 48,
     "metadata": {},
     "output_type": "execute_result"
    }
   ],
   "source": [
    "# Clés d'un dictionnaire\n",
    "\n",
    "stock_price.keys()"
   ]
  },
  {
   "cell_type": "markdown",
   "id": "1f1ed079",
   "metadata": {},
   "source": [
    "Vous pouvez récupérer toutes les valeurs d'un dictionnaire en utilisant la méthode <strong>values()</strong>"
   ]
  },
  {
   "cell_type": "code",
   "execution_count": 49,
   "id": "61bc8503",
   "metadata": {},
   "outputs": [
    {
     "data": {
      "text/plain": [
       "dict_values([[122.02, 14093522], [1897.5, 1821738], [3221.65, 51435858], [285.36, 20847907], [556.44, 52485698]])"
      ]
     },
     "execution_count": 49,
     "metadata": {},
     "output_type": "execute_result"
    }
   ],
   "source": [
    "# Valeurs d'un dictionnaire\n",
    "stock_price.values()"
   ]
  },
  {
   "cell_type": "markdown",
   "id": "2e5f1b3f",
   "metadata": {},
   "source": [
    "<h1 style=\"font-size:35px; font-weight:bold; color:red\">Dataframe</h1>"
   ]
  },
  {
   "cell_type": "markdown",
   "id": "2e7a0948",
   "metadata": {},
   "source": [
    "La dataframe est la structure de données la plus utilisée en Statistiques et en Data Science. Une dataframe permet de stocker les données en deux dimensions (lignes et colonnes) et rend ainsi l'analyse de données plus aisée."
   ]
  },
  {
   "cell_type": "markdown",
   "id": "eee7999e",
   "metadata": {},
   "source": [
    "Pour travailler avec les dataframes dans Python, il est nécessaire d'importer la librairie Pandas"
   ]
  },
  {
   "cell_type": "code",
   "execution_count": 50,
   "id": "65b3ccd8",
   "metadata": {},
   "outputs": [],
   "source": [
    "# Importation de Pandas\n",
    "\n",
    "import pandas as pd"
   ]
  },
  {
   "cell_type": "code",
   "execution_count": 51,
   "id": "1ce02979",
   "metadata": {},
   "outputs": [
    {
     "data": {
      "text/html": [
       "<div>\n",
       "<style scoped>\n",
       "    .dataframe tbody tr th:only-of-type {\n",
       "        vertical-align: middle;\n",
       "    }\n",
       "\n",
       "    .dataframe tbody tr th {\n",
       "        vertical-align: top;\n",
       "    }\n",
       "\n",
       "    .dataframe thead th {\n",
       "        text-align: right;\n",
       "    }\n",
       "</style>\n",
       "<table border=\"1\" class=\"dataframe\">\n",
       "  <thead>\n",
       "    <tr style=\"text-align: right;\">\n",
       "      <th></th>\n",
       "      <th>AAPL</th>\n",
       "      <th>GOOG</th>\n",
       "      <th>AMZN</th>\n",
       "      <th>FB</th>\n",
       "      <th>TSLA</th>\n",
       "    </tr>\n",
       "  </thead>\n",
       "  <tbody>\n",
       "    <tr>\n",
       "      <th>0</th>\n",
       "      <td>122.02</td>\n",
       "      <td>1897.5</td>\n",
       "      <td>3221.65</td>\n",
       "      <td>285.36</td>\n",
       "      <td>556.44</td>\n",
       "    </tr>\n",
       "    <tr>\n",
       "      <th>1</th>\n",
       "      <td>14093522.00</td>\n",
       "      <td>1821738.0</td>\n",
       "      <td>51435858.00</td>\n",
       "      <td>20847907.00</td>\n",
       "      <td>52485698.00</td>\n",
       "    </tr>\n",
       "  </tbody>\n",
       "</table>\n",
       "</div>"
      ],
      "text/plain": [
       "          AAPL       GOOG         AMZN           FB         TSLA\n",
       "0       122.02     1897.5      3221.65       285.36       556.44\n",
       "1  14093522.00  1821738.0  51435858.00  20847907.00  52485698.00"
      ]
     },
     "execution_count": 51,
     "metadata": {},
     "output_type": "execute_result"
    }
   ],
   "source": [
    "# Création d'une dataframe à partir d'un dictionnaire\n",
    "\n",
    "df = pd.DataFrame(stock_price)\n",
    "df"
   ]
  },
  {
   "cell_type": "markdown",
   "id": "51c55dc5",
   "metadata": {},
   "source": [
    "En réalité, les vraies variables, qui devraient être les colonnes de la dataframe, sont le prix d'ouverture et le volume moyen d'actions négociées. Pour un meilleur affichage, vous pouvez faire la transposition de la dataframe."
   ]
  },
  {
   "cell_type": "code",
   "execution_count": 52,
   "id": "24c3e1b9",
   "metadata": {},
   "outputs": [
    {
     "data": {
      "text/html": [
       "<div>\n",
       "<style scoped>\n",
       "    .dataframe tbody tr th:only-of-type {\n",
       "        vertical-align: middle;\n",
       "    }\n",
       "\n",
       "    .dataframe tbody tr th {\n",
       "        vertical-align: top;\n",
       "    }\n",
       "\n",
       "    .dataframe thead th {\n",
       "        text-align: right;\n",
       "    }\n",
       "</style>\n",
       "<table border=\"1\" class=\"dataframe\">\n",
       "  <thead>\n",
       "    <tr style=\"text-align: right;\">\n",
       "      <th></th>\n",
       "      <th>0</th>\n",
       "      <th>1</th>\n",
       "    </tr>\n",
       "  </thead>\n",
       "  <tbody>\n",
       "    <tr>\n",
       "      <th>AAPL</th>\n",
       "      <td>122.02</td>\n",
       "      <td>14093522.0</td>\n",
       "    </tr>\n",
       "    <tr>\n",
       "      <th>GOOG</th>\n",
       "      <td>1897.50</td>\n",
       "      <td>1821738.0</td>\n",
       "    </tr>\n",
       "    <tr>\n",
       "      <th>AMZN</th>\n",
       "      <td>3221.65</td>\n",
       "      <td>51435858.0</td>\n",
       "    </tr>\n",
       "    <tr>\n",
       "      <th>FB</th>\n",
       "      <td>285.36</td>\n",
       "      <td>20847907.0</td>\n",
       "    </tr>\n",
       "    <tr>\n",
       "      <th>TSLA</th>\n",
       "      <td>556.44</td>\n",
       "      <td>52485698.0</td>\n",
       "    </tr>\n",
       "  </tbody>\n",
       "</table>\n",
       "</div>"
      ],
      "text/plain": [
       "            0           1\n",
       "AAPL   122.02  14093522.0\n",
       "GOOG  1897.50   1821738.0\n",
       "AMZN  3221.65  51435858.0\n",
       "FB     285.36  20847907.0\n",
       "TSLA   556.44  52485698.0"
      ]
     },
     "execution_count": 52,
     "metadata": {},
     "output_type": "execute_result"
    }
   ],
   "source": [
    "# Transposée de df\n",
    "\n",
    "df = df.T\n",
    "df"
   ]
  },
  {
   "cell_type": "markdown",
   "id": "f0d8bb0f",
   "metadata": {},
   "source": [
    "La méthode <strong>raname()</strong> est utilisée pour renommer les colonnes d'une dataframe."
   ]
  },
  {
   "cell_type": "code",
   "execution_count": 53,
   "id": "804e4933",
   "metadata": {},
   "outputs": [
    {
     "data": {
      "text/html": [
       "<div>\n",
       "<style scoped>\n",
       "    .dataframe tbody tr th:only-of-type {\n",
       "        vertical-align: middle;\n",
       "    }\n",
       "\n",
       "    .dataframe tbody tr th {\n",
       "        vertical-align: top;\n",
       "    }\n",
       "\n",
       "    .dataframe thead th {\n",
       "        text-align: right;\n",
       "    }\n",
       "</style>\n",
       "<table border=\"1\" class=\"dataframe\">\n",
       "  <thead>\n",
       "    <tr style=\"text-align: right;\">\n",
       "      <th></th>\n",
       "      <th>price</th>\n",
       "      <th>avg_volume</th>\n",
       "    </tr>\n",
       "  </thead>\n",
       "  <tbody>\n",
       "    <tr>\n",
       "      <th>AAPL</th>\n",
       "      <td>122.02</td>\n",
       "      <td>14093522.0</td>\n",
       "    </tr>\n",
       "    <tr>\n",
       "      <th>GOOG</th>\n",
       "      <td>1897.50</td>\n",
       "      <td>1821738.0</td>\n",
       "    </tr>\n",
       "    <tr>\n",
       "      <th>AMZN</th>\n",
       "      <td>3221.65</td>\n",
       "      <td>51435858.0</td>\n",
       "    </tr>\n",
       "    <tr>\n",
       "      <th>FB</th>\n",
       "      <td>285.36</td>\n",
       "      <td>20847907.0</td>\n",
       "    </tr>\n",
       "    <tr>\n",
       "      <th>TSLA</th>\n",
       "      <td>556.44</td>\n",
       "      <td>52485698.0</td>\n",
       "    </tr>\n",
       "  </tbody>\n",
       "</table>\n",
       "</div>"
      ],
      "text/plain": [
       "        price  avg_volume\n",
       "AAPL   122.02  14093522.0\n",
       "GOOG  1897.50   1821738.0\n",
       "AMZN  3221.65  51435858.0\n",
       "FB     285.36  20847907.0\n",
       "TSLA   556.44  52485698.0"
      ]
     },
     "execution_count": 53,
     "metadata": {},
     "output_type": "execute_result"
    }
   ],
   "source": [
    "# Renommez les colonnes de df : 'price' pour 0 et 'avg_volume' pour 1\n",
    "\n",
    "df.columns = ['price', 'avg_volume']\n",
    "df\n",
    "      # ou tou simplement:\n",
    "      # df.rename(columns = {0:'price', 1:'avg_volume'}, inplace = True)"
   ]
  },
  {
   "cell_type": "code",
   "execution_count": 54,
   "id": "4505c8d3",
   "metadata": {},
   "outputs": [
    {
     "data": {
      "text/plain": [
       "Index(['price', 'avg_volume'], dtype='object')"
      ]
     },
     "execution_count": 54,
     "metadata": {},
     "output_type": "execute_result"
    }
   ],
   "source": [
    "# Colonnes d'une dataframe\n",
    "\n",
    "df.columns"
   ]
  },
  {
   "cell_type": "code",
   "execution_count": 55,
   "id": "521e93f4",
   "metadata": {},
   "outputs": [
    {
     "data": {
      "text/plain": [
       "Index(['AAPL', 'GOOG', 'AMZN', 'FB', 'TSLA'], dtype='object')"
      ]
     },
     "execution_count": 55,
     "metadata": {},
     "output_type": "execute_result"
    }
   ],
   "source": [
    "# Indices de lignes d'une dataframe\n",
    "\n",
    "df.index"
   ]
  },
  {
   "cell_type": "markdown",
   "id": "7ae0c1cd",
   "metadata": {},
   "source": [
    "Il est possible, et c'est souvent le cas, de créer une dataframe en important un fichier .csv, .json, .xlsx, etc soit à partir d'un ordinateur local ou d'internet. <br><br>\n",
    "Par exemple, pour importer un fichier .csv, il faut connaître le chemin qui mène à ce fichier dans votre ordinateur ou l'url de ce fichier sur internet. La focntion <strong>read_csv()</strong> de la librairie Pandas permet de faire cette opération\n"
   ]
  },
  {
   "cell_type": "code",
   "execution_count": 57,
   "id": "e546c997",
   "metadata": {},
   "outputs": [
    {
     "data": {
      "text/html": [
       "<div>\n",
       "<style scoped>\n",
       "    .dataframe tbody tr th:only-of-type {\n",
       "        vertical-align: middle;\n",
       "    }\n",
       "\n",
       "    .dataframe tbody tr th {\n",
       "        vertical-align: top;\n",
       "    }\n",
       "\n",
       "    .dataframe thead th {\n",
       "        text-align: right;\n",
       "    }\n",
       "</style>\n",
       "<table border=\"1\" class=\"dataframe\">\n",
       "  <thead>\n",
       "    <tr style=\"text-align: right;\">\n",
       "      <th></th>\n",
       "      <th>ID</th>\n",
       "      <th>Sex</th>\n",
       "      <th>Marital status</th>\n",
       "      <th>Age</th>\n",
       "      <th>Education</th>\n",
       "      <th>Income</th>\n",
       "      <th>Occupation</th>\n",
       "      <th>Settlement size</th>\n",
       "    </tr>\n",
       "  </thead>\n",
       "  <tbody>\n",
       "    <tr>\n",
       "      <th>0</th>\n",
       "      <td>100000001</td>\n",
       "      <td>0</td>\n",
       "      <td>0</td>\n",
       "      <td>67</td>\n",
       "      <td>2</td>\n",
       "      <td>124670</td>\n",
       "      <td>1</td>\n",
       "      <td>2</td>\n",
       "    </tr>\n",
       "    <tr>\n",
       "      <th>1</th>\n",
       "      <td>100000002</td>\n",
       "      <td>1</td>\n",
       "      <td>1</td>\n",
       "      <td>22</td>\n",
       "      <td>1</td>\n",
       "      <td>150773</td>\n",
       "      <td>1</td>\n",
       "      <td>2</td>\n",
       "    </tr>\n",
       "    <tr>\n",
       "      <th>2</th>\n",
       "      <td>100000003</td>\n",
       "      <td>0</td>\n",
       "      <td>0</td>\n",
       "      <td>49</td>\n",
       "      <td>1</td>\n",
       "      <td>89210</td>\n",
       "      <td>0</td>\n",
       "      <td>0</td>\n",
       "    </tr>\n",
       "    <tr>\n",
       "      <th>3</th>\n",
       "      <td>100000004</td>\n",
       "      <td>0</td>\n",
       "      <td>0</td>\n",
       "      <td>45</td>\n",
       "      <td>1</td>\n",
       "      <td>171565</td>\n",
       "      <td>1</td>\n",
       "      <td>1</td>\n",
       "    </tr>\n",
       "    <tr>\n",
       "      <th>4</th>\n",
       "      <td>100000005</td>\n",
       "      <td>0</td>\n",
       "      <td>0</td>\n",
       "      <td>53</td>\n",
       "      <td>1</td>\n",
       "      <td>149031</td>\n",
       "      <td>1</td>\n",
       "      <td>1</td>\n",
       "    </tr>\n",
       "  </tbody>\n",
       "</table>\n",
       "</div>"
      ],
      "text/plain": [
       "          ID  Sex  Marital status  Age  Education  Income  Occupation  \\\n",
       "0  100000001    0               0   67          2  124670           1   \n",
       "1  100000002    1               1   22          1  150773           1   \n",
       "2  100000003    0               0   49          1   89210           0   \n",
       "3  100000004    0               0   45          1  171565           1   \n",
       "4  100000005    0               0   53          1  149031           1   \n",
       "\n",
       "   Settlement size  \n",
       "0                2  \n",
       "1                2  \n",
       "2                0  \n",
       "3                1  \n",
       "4                1  "
      ]
     },
     "execution_count": 57,
     "metadata": {},
     "output_type": "execute_result"
    }
   ],
   "source": [
    "# Importation des données (fichier 'segmentation data.csv')\n",
    "\n",
    "clients = pd.read_csv('segmentation data.csv')\n",
    "\n",
    "# Affichage des cinq premières lignes\n",
    "clients.head()\n"
   ]
  },
  {
   "cell_type": "markdown",
   "id": "a88e9886",
   "metadata": {},
   "source": [
    "La méthode <strong>head()</strong> affiche par défaut les cinq premières lignes. Mais vous pouvez choisir d'afficher par exemple les 10 ptremières lignes avec <strong>.head(10)</strong> "
   ]
  },
  {
   "cell_type": "code",
   "execution_count": null,
   "id": "6074f571",
   "metadata": {},
   "outputs": [],
   "source": [
    "clients.tail()"
   ]
  },
  {
   "cell_type": "markdown",
   "id": "b182ffe8",
   "metadata": {},
   "source": [
    "Pour avoir des informations sur la structure de la dataframe, vous pouvez utiliser la méthode <strong>info()</strong>. Cette méthode donne des informations comme le nombre de lignes et de colonnes de la dataframe, le type des données dans chaque variable (colonne), le nombre de valeurs non-manquantes dans chaque variable, etc."
   ]
  },
  {
   "cell_type": "code",
   "execution_count": null,
   "id": "290f804c",
   "metadata": {},
   "outputs": [],
   "source": [
    "# Structure de la dataframe\n",
    "\n",
    "clients.info()"
   ]
  },
  {
   "cell_type": "markdown",
   "id": "d2e42e12",
   "metadata": {},
   "source": [
    "Supposons que vous vouliez travailler uniquement avec les colonnes 'ID', 'Age', 'Education' et 'Income'. Il s'agira donc de créer une nouvelle dataframe comprenant uniquement ces colonnes."
   ]
  },
  {
   "cell_type": "code",
   "execution_count": null,
   "id": "b50b493d",
   "metadata": {},
   "outputs": [],
   "source": [
    "# Séléction de plusieurs colonnes\n",
    "\n",
    "clients_new = clients[['ID', 'Age', 'Education', 'Income']]\n",
    "clients_new.head()"
   ]
  },
  {
   "cell_type": "markdown",
   "id": "1181fcc7",
   "metadata": {},
   "source": [
    "Vous vous rendez compte que vous n'aviez pas besoin de la colonne 'ID'. Pour la supprimer, il faut utiliser la méthide <strong>drop()</strong>"
   ]
  },
  {
   "cell_type": "code",
   "execution_count": null,
   "id": "71fe078f",
   "metadata": {},
   "outputs": [],
   "source": [
    "# Suppression de la colonne d'une dataframe. Pour supprimer une colonnes il faut toujours préciser axis=1\n",
    "\n",
    "clients_new = clients_new.drop('ID')\n"
   ]
  },
  {
   "cell_type": "code",
   "execution_count": null,
   "id": "689bb1b9",
   "metadata": {},
   "outputs": [],
   "source": [
    "clients_new"
   ]
  },
  {
   "cell_type": "markdown",
   "id": "bb997742",
   "metadata": {},
   "source": [
    "<h1 style=\"font-size:35px; font-weight:bold; color:red\">Les fonctions</h1>"
   ]
  },
  {
   "cell_type": "markdown",
   "id": "d6864850",
   "metadata": {},
   "source": [
    "Si vous commencez à copier/coller à plusieurs reprises un extrait de code, alors c'est un signal qu'il faut créer une fonction à partir de ce code; En effet, le fait de copier/coller du code est une grande source d'erreurs. Placer l'extrait du code dans une fonction permet de bien structurer votre programme et d'éviter des erreurs. <br><br>Créer une fonction dans python est une tâche hyper simple. Même si on peut créer des fonctions sans arguments, le plus fréquent est la création de fonction avec un ou plusieurs arguments aisni qu'une sortie?"
   ]
  },
  {
   "cell_type": "code",
   "execution_count": 61,
   "id": "5ee03e65",
   "metadata": {},
   "outputs": [
    {
     "data": {
      "text/plain": [
       "22"
      ]
     },
     "execution_count": 61,
     "metadata": {},
     "output_type": "execute_result"
    }
   ],
   "source": [
    "# Création d'une fonction qui prend deux arguments et retourne leur somme\n",
    "\n",
    "def somme(x, y):\n",
    "    return x + y\n",
    "\n",
    "somme(10,12)"
   ]
  },
  {
   "cell_type": "code",
   "execution_count": 62,
   "id": "aa6a810b",
   "metadata": {},
   "outputs": [
    {
     "data": {
      "text/plain": [
       "'Paris'"
      ]
     },
     "execution_count": 62,
     "metadata": {},
     "output_type": "execute_result"
    }
   ],
   "source": [
    "# Autres exemple d'uitilisation de la fonctio  somme()\n",
    "\n",
    "somme('Pa', 'ris')"
   ]
  },
  {
   "cell_type": "markdown",
   "id": "c6149341",
   "metadata": {},
   "source": [
    "Les fonctions <strong>lambda</strong> permettent d'écrire des fonctions rapidement et à la volée (en une seule ligne de code) en utilisant le mot-clé <strong>lambda</strong>. Le fomat d'une fonction lambda est :<br> <i>lambda arguments: expression</i>"
   ]
  },
  {
   "cell_type": "code",
   "execution_count": 63,
   "id": "1e93ffed",
   "metadata": {},
   "outputs": [
    {
     "data": {
      "text/plain": [
       "14"
      ]
     },
     "execution_count": 63,
     "metadata": {},
     "output_type": "execute_result"
    }
   ],
   "source": [
    "# Création d'une fonction lambda\n",
    "\n",
    "somme_lambda = lambda a, b: a + b\n",
    "\n",
    "somme_lambda(6,8)"
   ]
  },
  {
   "cell_type": "code",
   "execution_count": 64,
   "id": "e638c17c",
   "metadata": {},
   "outputs": [
    {
     "data": {
      "text/plain": [
       "4"
      ]
     },
     "execution_count": 64,
     "metadata": {},
     "output_type": "execute_result"
    }
   ],
   "source": [
    "# Création d'une fonction lambda\n",
    "squared_lambda = lambda i:i**2\n",
    "\n",
    "squared_lambda(2)"
   ]
  },
  {
   "cell_type": "code",
   "execution_count": 4,
   "id": "154a233a",
   "metadata": {},
   "outputs": [
    {
     "name": "stdout",
     "output_type": "stream",
     "text": [
      "Help on function read_csv in module pandas.io.parsers.readers:\n",
      "\n",
      "read_csv(filepath_or_buffer: 'FilePath | ReadCsvBuffer[bytes] | ReadCsvBuffer[str]', *, sep: 'str | None | lib.NoDefault' = <no_default>, delimiter: 'str | None | lib.NoDefault' = None, header: \"int | Sequence[int] | None | Literal['infer']\" = 'infer', names: 'Sequence[Hashable] | None | lib.NoDefault' = <no_default>, index_col: 'IndexLabel | Literal[False] | None' = None, usecols=None, squeeze: 'bool | None' = None, prefix: 'str | lib.NoDefault' = <no_default>, mangle_dupe_cols: 'bool' = True, dtype: 'DtypeArg | None' = None, engine: 'CSVEngine | None' = None, converters=None, true_values=None, false_values=None, skipinitialspace: 'bool' = False, skiprows=None, skipfooter: 'int' = 0, nrows: 'int | None' = None, na_values=None, keep_default_na: 'bool' = True, na_filter: 'bool' = True, verbose: 'bool' = False, skip_blank_lines: 'bool' = True, parse_dates=None, infer_datetime_format: 'bool' = False, keep_date_col: 'bool' = False, date_parser=None, dayfirst: 'bool' = False, cache_dates: 'bool' = True, iterator: 'bool' = False, chunksize: 'int | None' = None, compression: 'CompressionOptions' = 'infer', thousands: 'str | None' = None, decimal: 'str' = '.', lineterminator: 'str | None' = None, quotechar: 'str' = '\"', quoting: 'int' = 0, doublequote: 'bool' = True, escapechar: 'str | None' = None, comment: 'str | None' = None, encoding: 'str | None' = None, encoding_errors: 'str | None' = 'strict', dialect: 'str | csv.Dialect | None' = None, error_bad_lines: 'bool | None' = None, warn_bad_lines: 'bool | None' = None, on_bad_lines=None, delim_whitespace: 'bool' = False, low_memory=True, memory_map: 'bool' = False, float_precision: \"Literal['high', 'legacy'] | None\" = None, storage_options: 'StorageOptions' = None) -> 'DataFrame | TextFileReader'\n",
      "    Read a comma-separated values (csv) file into DataFrame.\n",
      "    \n",
      "    Also supports optionally iterating or breaking of the file\n",
      "    into chunks.\n",
      "    \n",
      "    Additional help can be found in the online docs for\n",
      "    `IO Tools <https://pandas.pydata.org/pandas-docs/stable/user_guide/io.html>`_.\n",
      "    \n",
      "    Parameters\n",
      "    ----------\n",
      "    filepath_or_buffer : str, path object or file-like object\n",
      "        Any valid string path is acceptable. The string could be a URL. Valid\n",
      "        URL schemes include http, ftp, s3, gs, and file. For file URLs, a host is\n",
      "        expected. A local file could be: file://localhost/path/to/table.csv.\n",
      "    \n",
      "        If you want to pass in a path object, pandas accepts any ``os.PathLike``.\n",
      "    \n",
      "        By file-like object, we refer to objects with a ``read()`` method, such as\n",
      "        a file handle (e.g. via builtin ``open`` function) or ``StringIO``.\n",
      "    sep : str, default ','\n",
      "        Delimiter to use. If sep is None, the C engine cannot automatically detect\n",
      "        the separator, but the Python parsing engine can, meaning the latter will\n",
      "        be used and automatically detect the separator by Python's builtin sniffer\n",
      "        tool, ``csv.Sniffer``. In addition, separators longer than 1 character and\n",
      "        different from ``'\\s+'`` will be interpreted as regular expressions and\n",
      "        will also force the use of the Python parsing engine. Note that regex\n",
      "        delimiters are prone to ignoring quoted data. Regex example: ``'\\r\\t'``.\n",
      "    delimiter : str, default ``None``\n",
      "        Alias for sep.\n",
      "    header : int, list of int, None, default 'infer'\n",
      "        Row number(s) to use as the column names, and the start of the\n",
      "        data.  Default behavior is to infer the column names: if no names\n",
      "        are passed the behavior is identical to ``header=0`` and column\n",
      "        names are inferred from the first line of the file, if column\n",
      "        names are passed explicitly then the behavior is identical to\n",
      "        ``header=None``. Explicitly pass ``header=0`` to be able to\n",
      "        replace existing names. The header can be a list of integers that\n",
      "        specify row locations for a multi-index on the columns\n",
      "        e.g. [0,1,3]. Intervening rows that are not specified will be\n",
      "        skipped (e.g. 2 in this example is skipped). Note that this\n",
      "        parameter ignores commented lines and empty lines if\n",
      "        ``skip_blank_lines=True``, so ``header=0`` denotes the first line of\n",
      "        data rather than the first line of the file.\n",
      "    names : array-like, optional\n",
      "        List of column names to use. If the file contains a header row,\n",
      "        then you should explicitly pass ``header=0`` to override the column names.\n",
      "        Duplicates in this list are not allowed.\n",
      "    index_col : int, str, sequence of int / str, or False, optional, default ``None``\n",
      "      Column(s) to use as the row labels of the ``DataFrame``, either given as\n",
      "      string name or column index. If a sequence of int / str is given, a\n",
      "      MultiIndex is used.\n",
      "    \n",
      "      Note: ``index_col=False`` can be used to force pandas to *not* use the first\n",
      "      column as the index, e.g. when you have a malformed file with delimiters at\n",
      "      the end of each line.\n",
      "    usecols : list-like or callable, optional\n",
      "        Return a subset of the columns. If list-like, all elements must either\n",
      "        be positional (i.e. integer indices into the document columns) or strings\n",
      "        that correspond to column names provided either by the user in `names` or\n",
      "        inferred from the document header row(s). If ``names`` are given, the document\n",
      "        header row(s) are not taken into account. For example, a valid list-like\n",
      "        `usecols` parameter would be ``[0, 1, 2]`` or ``['foo', 'bar', 'baz']``.\n",
      "        Element order is ignored, so ``usecols=[0, 1]`` is the same as ``[1, 0]``.\n",
      "        To instantiate a DataFrame from ``data`` with element order preserved use\n",
      "        ``pd.read_csv(data, usecols=['foo', 'bar'])[['foo', 'bar']]`` for columns\n",
      "        in ``['foo', 'bar']`` order or\n",
      "        ``pd.read_csv(data, usecols=['foo', 'bar'])[['bar', 'foo']]``\n",
      "        for ``['bar', 'foo']`` order.\n",
      "    \n",
      "        If callable, the callable function will be evaluated against the column\n",
      "        names, returning names where the callable function evaluates to True. An\n",
      "        example of a valid callable argument would be ``lambda x: x.upper() in\n",
      "        ['AAA', 'BBB', 'DDD']``. Using this parameter results in much faster\n",
      "        parsing time and lower memory usage.\n",
      "    squeeze : bool, default False\n",
      "        If the parsed data only contains one column then return a Series.\n",
      "    \n",
      "        .. deprecated:: 1.4.0\n",
      "            Append ``.squeeze(\"columns\")`` to the call to ``read_csv`` to squeeze\n",
      "            the data.\n",
      "    prefix : str, optional\n",
      "        Prefix to add to column numbers when no header, e.g. 'X' for X0, X1, ...\n",
      "    \n",
      "        .. deprecated:: 1.4.0\n",
      "           Use a list comprehension on the DataFrame's columns after calling ``read_csv``.\n",
      "    mangle_dupe_cols : bool, default True\n",
      "        Duplicate columns will be specified as 'X', 'X.1', ...'X.N', rather than\n",
      "        'X'...'X'. Passing in False will cause data to be overwritten if there\n",
      "        are duplicate names in the columns.\n",
      "    \n",
      "        .. deprecated:: 1.5.0\n",
      "            Not implemented, and a new argument to specify the pattern for the\n",
      "            names of duplicated columns will be added instead\n",
      "    dtype : Type name or dict of column -> type, optional\n",
      "        Data type for data or columns. E.g. {'a': np.float64, 'b': np.int32,\n",
      "        'c': 'Int64'}\n",
      "        Use `str` or `object` together with suitable `na_values` settings\n",
      "        to preserve and not interpret dtype.\n",
      "        If converters are specified, they will be applied INSTEAD\n",
      "        of dtype conversion.\n",
      "    \n",
      "        .. versionadded:: 1.5.0\n",
      "    \n",
      "            Support for defaultdict was added. Specify a defaultdict as input where\n",
      "            the default determines the dtype of the columns which are not explicitly\n",
      "            listed.\n",
      "    engine : {'c', 'python', 'pyarrow'}, optional\n",
      "        Parser engine to use. The C and pyarrow engines are faster, while the python engine\n",
      "        is currently more feature-complete. Multithreading is currently only supported by\n",
      "        the pyarrow engine.\n",
      "    \n",
      "        .. versionadded:: 1.4.0\n",
      "    \n",
      "            The \"pyarrow\" engine was added as an *experimental* engine, and some features\n",
      "            are unsupported, or may not work correctly, with this engine.\n",
      "    converters : dict, optional\n",
      "        Dict of functions for converting values in certain columns. Keys can either\n",
      "        be integers or column labels.\n",
      "    true_values : list, optional\n",
      "        Values to consider as True.\n",
      "    false_values : list, optional\n",
      "        Values to consider as False.\n",
      "    skipinitialspace : bool, default False\n",
      "        Skip spaces after delimiter.\n",
      "    skiprows : list-like, int or callable, optional\n",
      "        Line numbers to skip (0-indexed) or number of lines to skip (int)\n",
      "        at the start of the file.\n",
      "    \n",
      "        If callable, the callable function will be evaluated against the row\n",
      "        indices, returning True if the row should be skipped and False otherwise.\n",
      "        An example of a valid callable argument would be ``lambda x: x in [0, 2]``.\n",
      "    skipfooter : int, default 0\n",
      "        Number of lines at bottom of file to skip (Unsupported with engine='c').\n",
      "    nrows : int, optional\n",
      "        Number of rows of file to read. Useful for reading pieces of large files.\n",
      "    na_values : scalar, str, list-like, or dict, optional\n",
      "        Additional strings to recognize as NA/NaN. If dict passed, specific\n",
      "        per-column NA values.  By default the following values are interpreted as\n",
      "        NaN: '', '#N/A', '#N/A N/A', '#NA', '-1.#IND', '-1.#QNAN', '-NaN', '-nan',\n",
      "        '1.#IND', '1.#QNAN', '<NA>', 'N/A', 'NA', 'NULL', 'NaN', 'n/a',\n",
      "        'nan', 'null'.\n",
      "    keep_default_na : bool, default True\n",
      "        Whether or not to include the default NaN values when parsing the data.\n",
      "        Depending on whether `na_values` is passed in, the behavior is as follows:\n",
      "    \n",
      "        * If `keep_default_na` is True, and `na_values` are specified, `na_values`\n",
      "          is appended to the default NaN values used for parsing.\n",
      "        * If `keep_default_na` is True, and `na_values` are not specified, only\n",
      "          the default NaN values are used for parsing.\n",
      "        * If `keep_default_na` is False, and `na_values` are specified, only\n",
      "          the NaN values specified `na_values` are used for parsing.\n",
      "        * If `keep_default_na` is False, and `na_values` are not specified, no\n",
      "          strings will be parsed as NaN.\n",
      "    \n",
      "        Note that if `na_filter` is passed in as False, the `keep_default_na` and\n",
      "        `na_values` parameters will be ignored.\n",
      "    na_filter : bool, default True\n",
      "        Detect missing value markers (empty strings and the value of na_values). In\n",
      "        data without any NAs, passing na_filter=False can improve the performance\n",
      "        of reading a large file.\n",
      "    verbose : bool, default False\n",
      "        Indicate number of NA values placed in non-numeric columns.\n",
      "    skip_blank_lines : bool, default True\n",
      "        If True, skip over blank lines rather than interpreting as NaN values.\n",
      "    parse_dates : bool or list of int or names or list of lists or dict, default False\n",
      "        The behavior is as follows:\n",
      "    \n",
      "        * boolean. If True -> try parsing the index.\n",
      "        * list of int or names. e.g. If [1, 2, 3] -> try parsing columns 1, 2, 3\n",
      "          each as a separate date column.\n",
      "        * list of lists. e.g.  If [[1, 3]] -> combine columns 1 and 3 and parse as\n",
      "          a single date column.\n",
      "        * dict, e.g. {'foo' : [1, 3]} -> parse columns 1, 3 as date and call\n",
      "          result 'foo'\n",
      "    \n",
      "        If a column or index cannot be represented as an array of datetimes,\n",
      "        say because of an unparsable value or a mixture of timezones, the column\n",
      "        or index will be returned unaltered as an object data type. For\n",
      "        non-standard datetime parsing, use ``pd.to_datetime`` after\n",
      "        ``pd.read_csv``. To parse an index or column with a mixture of timezones,\n",
      "        specify ``date_parser`` to be a partially-applied\n",
      "        :func:`pandas.to_datetime` with ``utc=True``. See\n",
      "        :ref:`io.csv.mixed_timezones` for more.\n",
      "    \n",
      "        Note: A fast-path exists for iso8601-formatted dates.\n",
      "    infer_datetime_format : bool, default False\n",
      "        If True and `parse_dates` is enabled, pandas will attempt to infer the\n",
      "        format of the datetime strings in the columns, and if it can be inferred,\n",
      "        switch to a faster method of parsing them. In some cases this can increase\n",
      "        the parsing speed by 5-10x.\n",
      "    keep_date_col : bool, default False\n",
      "        If True and `parse_dates` specifies combining multiple columns then\n",
      "        keep the original columns.\n",
      "    date_parser : function, optional\n",
      "        Function to use for converting a sequence of string columns to an array of\n",
      "        datetime instances. The default uses ``dateutil.parser.parser`` to do the\n",
      "        conversion. Pandas will try to call `date_parser` in three different ways,\n",
      "        advancing to the next if an exception occurs: 1) Pass one or more arrays\n",
      "        (as defined by `parse_dates`) as arguments; 2) concatenate (row-wise) the\n",
      "        string values from the columns defined by `parse_dates` into a single array\n",
      "        and pass that; and 3) call `date_parser` once for each row using one or\n",
      "        more strings (corresponding to the columns defined by `parse_dates`) as\n",
      "        arguments.\n",
      "    dayfirst : bool, default False\n",
      "        DD/MM format dates, international and European format.\n",
      "    cache_dates : bool, default True\n",
      "        If True, use a cache of unique, converted dates to apply the datetime\n",
      "        conversion. May produce significant speed-up when parsing duplicate\n",
      "        date strings, especially ones with timezone offsets.\n",
      "    \n",
      "        .. versionadded:: 0.25.0\n",
      "    iterator : bool, default False\n",
      "        Return TextFileReader object for iteration or getting chunks with\n",
      "        ``get_chunk()``.\n",
      "    \n",
      "        .. versionchanged:: 1.2\n",
      "    \n",
      "           ``TextFileReader`` is a context manager.\n",
      "    chunksize : int, optional\n",
      "        Return TextFileReader object for iteration.\n",
      "        See the `IO Tools docs\n",
      "        <https://pandas.pydata.org/pandas-docs/stable/io.html#io-chunking>`_\n",
      "        for more information on ``iterator`` and ``chunksize``.\n",
      "    \n",
      "        .. versionchanged:: 1.2\n",
      "    \n",
      "           ``TextFileReader`` is a context manager.\n",
      "    compression : str or dict, default 'infer'\n",
      "        For on-the-fly decompression of on-disk data. If 'infer' and 'filepath_or_buffer' is\n",
      "        path-like, then detect compression from the following extensions: '.gz',\n",
      "        '.bz2', '.zip', '.xz', '.zst', '.tar', '.tar.gz', '.tar.xz' or '.tar.bz2'\n",
      "        (otherwise no compression).\n",
      "        If using 'zip' or 'tar', the ZIP file must contain only one data file to be read in.\n",
      "        Set to ``None`` for no decompression.\n",
      "        Can also be a dict with key ``'method'`` set\n",
      "        to one of {``'zip'``, ``'gzip'``, ``'bz2'``, ``'zstd'``, ``'tar'``} and other\n",
      "        key-value pairs are forwarded to\n",
      "        ``zipfile.ZipFile``, ``gzip.GzipFile``,\n",
      "        ``bz2.BZ2File``, ``zstandard.ZstdDecompressor`` or\n",
      "        ``tarfile.TarFile``, respectively.\n",
      "        As an example, the following could be passed for Zstandard decompression using a\n",
      "        custom compression dictionary:\n",
      "        ``compression={'method': 'zstd', 'dict_data': my_compression_dict}``.\n",
      "    \n",
      "            .. versionadded:: 1.5.0\n",
      "                Added support for `.tar` files.\n",
      "    \n",
      "        .. versionchanged:: 1.4.0 Zstandard support.\n",
      "    \n",
      "    thousands : str, optional\n",
      "        Thousands separator.\n",
      "    decimal : str, default '.'\n",
      "        Character to recognize as decimal point (e.g. use ',' for European data).\n",
      "    lineterminator : str (length 1), optional\n",
      "        Character to break file into lines. Only valid with C parser.\n",
      "    quotechar : str (length 1), optional\n",
      "        The character used to denote the start and end of a quoted item. Quoted\n",
      "        items can include the delimiter and it will be ignored.\n",
      "    quoting : int or csv.QUOTE_* instance, default 0\n",
      "        Control field quoting behavior per ``csv.QUOTE_*`` constants. Use one of\n",
      "        QUOTE_MINIMAL (0), QUOTE_ALL (1), QUOTE_NONNUMERIC (2) or QUOTE_NONE (3).\n",
      "    doublequote : bool, default ``True``\n",
      "       When quotechar is specified and quoting is not ``QUOTE_NONE``, indicate\n",
      "       whether or not to interpret two consecutive quotechar elements INSIDE a\n",
      "       field as a single ``quotechar`` element.\n",
      "    escapechar : str (length 1), optional\n",
      "        One-character string used to escape other characters.\n",
      "    comment : str, optional\n",
      "        Indicates remainder of line should not be parsed. If found at the beginning\n",
      "        of a line, the line will be ignored altogether. This parameter must be a\n",
      "        single character. Like empty lines (as long as ``skip_blank_lines=True``),\n",
      "        fully commented lines are ignored by the parameter `header` but not by\n",
      "        `skiprows`. For example, if ``comment='#'``, parsing\n",
      "        ``#empty\\na,b,c\\n1,2,3`` with ``header=0`` will result in 'a,b,c' being\n",
      "        treated as the header.\n",
      "    encoding : str, optional\n",
      "        Encoding to use for UTF when reading/writing (ex. 'utf-8'). `List of Python\n",
      "        standard encodings\n",
      "        <https://docs.python.org/3/library/codecs.html#standard-encodings>`_ .\n",
      "    \n",
      "        .. versionchanged:: 1.2\n",
      "    \n",
      "           When ``encoding`` is ``None``, ``errors=\"replace\"`` is passed to\n",
      "           ``open()``. Otherwise, ``errors=\"strict\"`` is passed to ``open()``.\n",
      "           This behavior was previously only the case for ``engine=\"python\"``.\n",
      "    \n",
      "        .. versionchanged:: 1.3.0\n",
      "    \n",
      "           ``encoding_errors`` is a new argument. ``encoding`` has no longer an\n",
      "           influence on how encoding errors are handled.\n",
      "    \n",
      "    encoding_errors : str, optional, default \"strict\"\n",
      "        How encoding errors are treated. `List of possible values\n",
      "        <https://docs.python.org/3/library/codecs.html#error-handlers>`_ .\n",
      "    \n",
      "        .. versionadded:: 1.3.0\n",
      "    \n",
      "    dialect : str or csv.Dialect, optional\n",
      "        If provided, this parameter will override values (default or not) for the\n",
      "        following parameters: `delimiter`, `doublequote`, `escapechar`,\n",
      "        `skipinitialspace`, `quotechar`, and `quoting`. If it is necessary to\n",
      "        override values, a ParserWarning will be issued. See csv.Dialect\n",
      "        documentation for more details.\n",
      "    error_bad_lines : bool, optional, default ``None``\n",
      "        Lines with too many fields (e.g. a csv line with too many commas) will by\n",
      "        default cause an exception to be raised, and no DataFrame will be returned.\n",
      "        If False, then these \"bad lines\" will be dropped from the DataFrame that is\n",
      "        returned.\n",
      "    \n",
      "        .. deprecated:: 1.3.0\n",
      "           The ``on_bad_lines`` parameter should be used instead to specify behavior upon\n",
      "           encountering a bad line instead.\n",
      "    warn_bad_lines : bool, optional, default ``None``\n",
      "        If error_bad_lines is False, and warn_bad_lines is True, a warning for each\n",
      "        \"bad line\" will be output.\n",
      "    \n",
      "        .. deprecated:: 1.3.0\n",
      "           The ``on_bad_lines`` parameter should be used instead to specify behavior upon\n",
      "           encountering a bad line instead.\n",
      "    on_bad_lines : {'error', 'warn', 'skip'} or callable, default 'error'\n",
      "        Specifies what to do upon encountering a bad line (a line with too many fields).\n",
      "        Allowed values are :\n",
      "    \n",
      "            - 'error', raise an Exception when a bad line is encountered.\n",
      "            - 'warn', raise a warning when a bad line is encountered and skip that line.\n",
      "            - 'skip', skip bad lines without raising or warning when they are encountered.\n",
      "    \n",
      "        .. versionadded:: 1.3.0\n",
      "    \n",
      "        .. versionadded:: 1.4.0\n",
      "    \n",
      "            - callable, function with signature\n",
      "              ``(bad_line: list[str]) -> list[str] | None`` that will process a single\n",
      "              bad line. ``bad_line`` is a list of strings split by the ``sep``.\n",
      "              If the function returns ``None``, the bad line will be ignored.\n",
      "              If the function returns a new list of strings with more elements than\n",
      "              expected, a ``ParserWarning`` will be emitted while dropping extra elements.\n",
      "              Only supported when ``engine=\"python\"``\n",
      "    \n",
      "    delim_whitespace : bool, default False\n",
      "        Specifies whether or not whitespace (e.g. ``' '`` or ``'    '``) will be\n",
      "        used as the sep. Equivalent to setting ``sep='\\s+'``. If this option\n",
      "        is set to True, nothing should be passed in for the ``delimiter``\n",
      "        parameter.\n",
      "    low_memory : bool, default True\n",
      "        Internally process the file in chunks, resulting in lower memory use\n",
      "        while parsing, but possibly mixed type inference.  To ensure no mixed\n",
      "        types either set False, or specify the type with the `dtype` parameter.\n",
      "        Note that the entire file is read into a single DataFrame regardless,\n",
      "        use the `chunksize` or `iterator` parameter to return the data in chunks.\n",
      "        (Only valid with C parser).\n",
      "    memory_map : bool, default False\n",
      "        If a filepath is provided for `filepath_or_buffer`, map the file object\n",
      "        directly onto memory and access the data directly from there. Using this\n",
      "        option can improve performance because there is no longer any I/O overhead.\n",
      "    float_precision : str, optional\n",
      "        Specifies which converter the C engine should use for floating-point\n",
      "        values. The options are ``None`` or 'high' for the ordinary converter,\n",
      "        'legacy' for the original lower precision pandas converter, and\n",
      "        'round_trip' for the round-trip converter.\n",
      "    \n",
      "        .. versionchanged:: 1.2\n",
      "    \n",
      "    storage_options : dict, optional\n",
      "        Extra options that make sense for a particular storage connection, e.g.\n",
      "        host, port, username, password, etc. For HTTP(S) URLs the key-value pairs\n",
      "        are forwarded to ``urllib.request.Request`` as header options. For other\n",
      "        URLs (e.g. starting with \"s3://\", and \"gcs://\") the key-value pairs are\n",
      "        forwarded to ``fsspec.open``. Please see ``fsspec`` and ``urllib`` for more\n",
      "        details, and for more examples on storage options refer `here\n",
      "        <https://pandas.pydata.org/docs/user_guide/io.html?\n",
      "        highlight=storage_options#reading-writing-remote-files>`_.\n",
      "    \n",
      "        .. versionadded:: 1.2\n",
      "    \n",
      "    Returns\n",
      "    -------\n",
      "    DataFrame or TextParser\n",
      "        A comma-separated values (csv) file is returned as two-dimensional\n",
      "        data structure with labeled axes.\n",
      "    \n",
      "    See Also\n",
      "    --------\n",
      "    DataFrame.to_csv : Write DataFrame to a comma-separated values (csv) file.\n",
      "    read_csv : Read a comma-separated values (csv) file into DataFrame.\n",
      "    read_fwf : Read a table of fixed-width formatted lines into DataFrame.\n",
      "    \n",
      "    Examples\n",
      "    --------\n",
      "    >>> pd.read_csv('data.csv')  # doctest: +SKIP\n",
      "\n"
     ]
    },
    {
     "ename": "AttributeError",
     "evalue": "'NoneType' object has no attribute 'to_list'",
     "output_type": "error",
     "traceback": [
      "\u001b[0;31m---------------------------------------------------------------------------\u001b[0m",
      "\u001b[0;31mAttributeError\u001b[0m                            Traceback (most recent call last)",
      "Cell \u001b[0;32mIn[4], line 3\u001b[0m\n\u001b[1;32m      1\u001b[0m \u001b[38;5;66;03m# Consulation de l'aide d'une fonction help()\u001b[39;00m\n\u001b[1;32m      2\u001b[0m \u001b[38;5;28;01mimport\u001b[39;00m \u001b[38;5;21;01mpandas\u001b[39;00m \u001b[38;5;28;01mas\u001b[39;00m \u001b[38;5;21;01mpd\u001b[39;00m\n\u001b[0;32m----> 3\u001b[0m \u001b[43mhelp\u001b[49m\u001b[43m(\u001b[49m\u001b[43mpd\u001b[49m\u001b[38;5;241;43m.\u001b[39;49m\u001b[43mread_csv\u001b[49m\u001b[43m)\u001b[49m\u001b[38;5;241;43m.\u001b[39;49m\u001b[43mto_list\u001b[49m\n",
      "\u001b[0;31mAttributeError\u001b[0m: 'NoneType' object has no attribute 'to_list'"
     ]
    }
   ],
   "source": [
    "# Consulation de l'aide d'une fonction help()\n",
    "help(pd.read_csv)"
   ]
  },
  {
   "cell_type": "code",
   "execution_count": null,
   "id": "88997e10",
   "metadata": {},
   "outputs": [],
   "source": []
  }
 ],
 "metadata": {
  "kernelspec": {
   "display_name": "Python 3 (ipykernel)",
   "language": "python",
   "name": "python3"
  },
  "language_info": {
   "codemirror_mode": {
    "name": "ipython",
    "version": 3
   },
   "file_extension": ".py",
   "mimetype": "text/x-python",
   "name": "python",
   "nbconvert_exporter": "python",
   "pygments_lexer": "ipython3",
   "version": "3.9.16"
  }
 },
 "nbformat": 4,
 "nbformat_minor": 5
}
